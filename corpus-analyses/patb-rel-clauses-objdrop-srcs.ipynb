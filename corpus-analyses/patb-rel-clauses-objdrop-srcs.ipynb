{
 "cells": [
  {
   "cell_type": "code",
   "execution_count": 1,
   "id": "75be33a8",
   "metadata": {},
   "outputs": [],
   "source": [
    "import sys, os, re\n",
    "from nltk.corpus import ptb\n",
    "import pandas as pd\n",
    "import regex as re"
   ]
  },
  {
   "cell_type": "code",
   "execution_count": 2,
   "id": "870a52cb",
   "metadata": {},
   "outputs": [],
   "source": [
    "## path to PATB files in nltk_data folder\n",
    "path = 'C:/Users/nicol/AppData/Roaming/nltk_data/corpora/ptb'"
   ]
  },
  {
   "cell_type": "code",
   "execution_count": 3,
   "id": "f2fc21a2",
   "metadata": {},
   "outputs": [],
   "source": [
    "## get list of file ids\n",
    "file_list = []\n",
    "for filename in os.listdir(path):\n",
    "    if filename.endswith('.tree'):\n",
    "        file_list.append(filename)"
   ]
  },
  {
   "cell_type": "code",
   "execution_count": 4,
   "id": "06056125",
   "metadata": {},
   "outputs": [],
   "source": [
    "## extract relative clauses from sentences\n",
    "patb_rel = []\n",
    "total_sents = 0\n",
    "\n",
    "for filename in file_list:\n",
    "    sentnum = 1 # sentence indexing\n",
    "    sents = ptb.raw(filename).split('\\n')\n",
    "    total_sents += len(sents) # get total number of sentences\n",
    "    sent_chunks = []\n",
    "    for sent in sents:\n",
    "        sent_chunks.append(list(filter(None, sent.split(')'))))\n",
    "\n",
    "    for sent in sent_chunks: # sent_chunks = nested list of sentences\n",
    "        subsentnum = 1 # indexing for sentences with more than one RC\n",
    "        i = 0 # chunk indexing\n",
    "        for chunk in sent: # gets at each chunk within individual sentences\n",
    "        #    if re.search('\\(SBAR \\(WHNP-\\d+ \\(REL_PRON', chunk): # excludes SBAR-NOM (uses ما rel pronoun) and WHNP -NONE-\n",
    "        #    if re.search('\\(SBAR \\(WHNP-\\d+', chunk): # excludes SBAR-NOM (uses ما rel pronoun)\n",
    "            if re.search('\\(SBAR(?:-NOM)? \\(WHNP-\\d+', chunk):\n",
    "                patb_rel.append([filename, #fileid\n",
    "                                str(sentnum) + '.' + str(subsentnum), # index of sentence and rel clause in sentence\n",
    "                                sent[i-1] + ')' + sent[i] + ')' + sent[i+1] + ')' + sent[i+2] + ')']) #estimated chunk of sentence rather than full sentence\n",
    "                # append clauses to search for N-SBJ (checks for len of sentence)\n",
    "                if len(sent) > i+3:\n",
    "                    patb_rel[-1][-1] = patb_rel[-1][-1] + sent[i+3] + ')'\n",
    "                if len(sent) > i+4:\n",
    "                    patb_rel[-1][-1] = patb_rel[-1][-1] + sent[i+4] + ')'\n",
    "                if len(sent) > i+5:\n",
    "                    patb_rel[-1][-1] = patb_rel[-1][-1] + sent[i+5] + ')'\n",
    "                if len(sent) > i+6:\n",
    "                    patb_rel[-1][-1] = patb_rel[-1][-1] + sent[i+6] + ')'\n",
    "                if len(sent) > i+7:\n",
    "                    patb_rel[-1][-1] = patb_rel[-1][-1] + sent[i+7] + ')'\n",
    "                subsentnum += 1\n",
    "            i += 1\n",
    "        sentnum += 1"
   ]
  },
  {
   "cell_type": "code",
   "execution_count": 5,
   "id": "56ce97b9",
   "metadata": {},
   "outputs": [],
   "source": [
    "srcs = []\n",
    "orcs = []\n",
    "\n",
    "for clause in patb_rel:\n",
    "    if re.search('\\(WHNP-(\\d+).*\\(NP-SBJ-\\\\1 \\(-NONE- \\*T\\*', clause[2]): # if subject gap is labeled and refers back to WHNP index\n",
    "        srcs.append(clause)\n",
    "    elif re.search('\\(WHNP-(\\d+).*\\(NP-OBJ.*\\(NP-\\\\1 \\(-NONE- \\*T\\*', clause[2]):\n",
    "        orcs.append(clause)"
   ]
  },
  {
   "cell_type": "code",
   "execution_count": 6,
   "id": "86374354",
   "metadata": {},
   "outputs": [
    {
     "data": {
      "text/plain": [
       "5725"
      ]
     },
     "execution_count": 6,
     "metadata": {},
     "output_type": "execute_result"
    }
   ],
   "source": [
    "len(srcs)"
   ]
  },
  {
   "cell_type": "code",
   "execution_count": 7,
   "id": "034d3ae1",
   "metadata": {},
   "outputs": [
    {
     "data": {
      "text/plain": [
       "1543"
      ]
     },
     "execution_count": 7,
     "metadata": {},
     "output_type": "execute_result"
    }
   ],
   "source": [
    "len(orcs)"
   ]
  },
  {
   "cell_type": "code",
   "execution_count": 16,
   "id": "08b53233",
   "metadata": {},
   "outputs": [],
   "source": [
    "## object drop SRCs w/ clitic\n",
    "## within existing list of SRCs, is there ever a RP with a null object trace?\n",
    "\n",
    "# start by checking whether any SRCs have a RP - NP-OBJ (NP (IVSUFF_DO\n",
    "\n",
    "obj_drop_src = []\n",
    "\n",
    "for clause in srcs:\n",
    "    if re.search(r'NP-OBJ \\(NP \\(IVSUFF_DO', clause[2]):\n",
    "        obj_drop_src.append(clause)"
   ]
  },
  {
   "cell_type": "code",
   "execution_count": 17,
   "id": "be9b8d1e",
   "metadata": {},
   "outputs": [
    {
     "data": {
      "text/plain": [
       "15"
      ]
     },
     "execution_count": 17,
     "metadata": {},
     "output_type": "execute_result"
    }
   ],
   "source": [
    "len(obj_drop_src)"
   ]
  },
  {
   "cell_type": "code",
   "execution_count": 18,
   "id": "371a6329",
   "metadata": {},
   "outputs": [],
   "source": [
    "## Export to Excel for manual review\n",
    "\n",
    "file_ids = []\n",
    "sent_index = []\n",
    "rc_type = []\n",
    "rc_chunks = []\n",
    "\n",
    "for line in obj_drop_src:\n",
    "    file_ids.append(line[0])\n",
    "    sent_index.append(line[1])\n",
    "    rc_type.append('object drop SRC')\n",
    "    rc_chunks.append(line[2])\n",
    "\n",
    "rc_dict = {'file-id': file_ids,\n",
    "            'sent-index': sent_index,\n",
    "            'rc-type': rc_type,\n",
    "            'clause': rc_chunks}\n",
    "\n",
    "rcs = pd.DataFrame(rc_dict)"
   ]
  },
  {
   "cell_type": "code",
   "execution_count": 19,
   "id": "4c955ba1",
   "metadata": {},
   "outputs": [],
   "source": [
    "rcs.to_excel('data/patb-rel-clauses-objdrop-src.xlsx')"
   ]
  }
 ],
 "metadata": {
  "kernelspec": {
   "display_name": "Python 3 (ipykernel)",
   "language": "python",
   "name": "python3"
  },
  "language_info": {
   "codemirror_mode": {
    "name": "ipython",
    "version": 3
   },
   "file_extension": ".py",
   "mimetype": "text/x-python",
   "name": "python",
   "nbconvert_exporter": "python",
   "pygments_lexer": "ipython3",
   "version": "3.11.1"
  }
 },
 "nbformat": 4,
 "nbformat_minor": 5
}
